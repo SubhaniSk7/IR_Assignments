{
 "cells": [
  {
   "cell_type": "code",
   "execution_count": 55,
   "metadata": {},
   "outputs": [],
   "source": [
    "import nltk\n",
    "import os,math,glob,re,copy,random\n",
    "\n",
    "from nltk.corpus import stopwords \n",
    "from nltk.tokenize import word_tokenize,RegexpTokenizer,TweetTokenizer\n",
    "from nltk.stem.porter import PorterStemmer\n",
    "from nltk import wordpunct_tokenize\n",
    "from nltk.stem import WordNetLemmatizer\n",
    "\n",
    "import re as regex\n",
    "import numpy as np\n",
    "from sklearn.externals import joblib\n",
    "import contractions\n",
    "from operator import itemgetter\n",
    "from itertools import chain\n",
    "\n",
    "from sklearn.model_selection import train_test_split\n",
    "import matplotlib.pyplot as plt\n",
    "import seaborn as sns\n",
    "from sklearn.metrics import confusion_matrix,accuracy_score,normalized_mutual_info_score\n",
    "from sklearn.metrics.cluster import adjusted_rand_score, adjusted_mutual_info_score,contingency_matrix\n",
    "import matplotlib.pyplot as plt"
   ]
  },
  {
   "cell_type": "code",
   "execution_count": 2,
   "metadata": {},
   "outputs": [],
   "source": [
    "# from my previous assignment\n",
    "def contract(text):\n",
    "    return contractions.fix(text)\n",
    "\n",
    "def regTokenize(text):\n",
    "#     tok=RegexpTokenizer('[A-Za-z0-9]*[.]?\\w+')\n",
    "    tok=RegexpTokenizer('[A-Za-z0-9]?\\w+')\n",
    "    return tok.tokenize(text) \n",
    "\n",
    "def lowercase(text):\n",
    "    return text.lower()\n",
    "\n",
    "def lemma(words):\n",
    "    for i in range(0,len(words)):\n",
    "        words[i]=WordNetLemmatizer().lemmatize(words[i])\n",
    "    return words\n",
    "\n",
    "def stemming(words):\n",
    "    porter_stemmer=PorterStemmer()\n",
    "    for i in range(0,len(words)):\n",
    "        words[i]=porter_stemmer.stem(words[i])\n",
    "    return words\n",
    "\n",
    "def tweet(words):\n",
    "    tok=TweetTokenizer()\n",
    "    return tok.tokenize(words)\n",
    "\n",
    "def comma(text):\n",
    "    text = \"\".join(c for c in text if c not in ('!','.',':',',','\"','?','(',')'))\n",
    "    return text\n",
    "\n",
    "def removestopwords(text):\n",
    "    stopWords = set(stopwords.words('english'))\n",
    "    wordsFiltered = []\n",
    "    for w in text:\n",
    "        if w not in stopWords:\n",
    "            wordsFiltered.append(w)\n",
    "    return wordsFiltered"
   ]
  },
  {
   "cell_type": "code",
   "execution_count": 3,
   "metadata": {},
   "outputs": [],
   "source": [
    "#some functions are from 2nd Assignment\n",
    "def getDocLength(docId):#getting len(document)=number of words in that document from metadata\n",
    "    return metadata.get(docId)\n",
    "\n",
    "def getWordFreqInBodyDoc(docId,word):#getting word frequency in doc in document\n",
    "    f=open(docId,'r+',errors='ignore')\n",
    "    data=f.read()\n",
    "    data=lowercase(data)\n",
    "    data=contract(data)\n",
    "    data=comma(data)\n",
    "    data=regTokenize(data)\n",
    "    data=lemma(data)\n",
    "#     data=stemming(data)\n",
    "    freq=data.count(word)\n",
    "    return freq\n",
    "\n",
    "def getQTermPosts(term):#getting postings of term from dictionary\n",
    "    return terms_dictionary_load.get(term)[1]\n",
    "\n",
    "def getTermDocFreq(t):\n",
    "    return terms_dictionary_load.get(t)[0]\n",
    "\n",
    "def getDocWords(docId):\n",
    "    f=open(docId,'r+',errors='ignore')\n",
    "    data=f.read()\n",
    "    data=lowercase(data)\n",
    "    data=contract(data)\n",
    "    data=comma(data)\n",
    "    data=regTokenize(data)\n",
    "    data=lemma(data)\n",
    "#     data=stemming(data)\n",
    "    return data"
   ]
  },
  {
   "cell_type": "code",
   "execution_count": 4,
   "metadata": {},
   "outputs": [],
   "source": [
    "classes={'comp.graphics':0,'rec.sport.hockey':1,'sci.med':2,'sci.space':3,'talk.politics.misc':4}"
   ]
  },
  {
   "cell_type": "markdown",
   "metadata": {},
   "source": [
    "#### Structures\n",
    "#### terms=[words]\n",
    "#### terms_dictionary={term :[#df,[filname1,filename2,...]]}   --> Inverted Index\n",
    "#### metadata= [ [filename, #words],[..],.. ]\n",
    "\n",
    "#### document_id=[filename1,..]\n",
    "\n",
    "#### vsm=[ [tf-idf,..], [..], .. ] --> tf-idf vector for each document\n",
    "\n",
    "#### vsm_dictionary={filename:[vector], ...}"
   ]
  },
  {
   "cell_type": "code",
   "execution_count": 5,
   "metadata": {},
   "outputs": [],
   "source": [
    "# document_ids=[]\n",
    "# # metadata=[]\n",
    "# metadata={}\n",
    "# terms=[]\n",
    "# terms_dictionary={}\n",
    "\n",
    "# path = 'q1_q2_dataset'\n",
    "# print(path)\n",
    "# for dire in glob.glob(os.path.join(path, '*')):\n",
    "#     print(dire)\n",
    "#     for filename in glob.glob(os.path.join(dire, '*')):\n",
    "#         st=filename.split('\\\\')\n",
    "#         s=path+'/'+st[1]+'/'+st[2]\n",
    "# #         print(s)\n",
    "#         docId=s\n",
    "#         document_ids.append(docId)\n",
    "\n",
    "#         f=open(filename,'r+')\n",
    "#         data=f.read()\n",
    "\n",
    "#         data=lowercase(data)\n",
    "#         data=contract(data)\n",
    "#         data=regTokenize(data)\n",
    "#         data=lemma(data)\n",
    "# #         data=stemming(data)\n",
    "\n",
    "#         data=list(set(data))\n",
    "        \n",
    "#         temp=[]\n",
    "#         temp.append(s)\n",
    "#         temp.append(len(data))\n",
    "# #         metadata.append(temp)\n",
    "#         metadata[s]=len(data)\n",
    "        \n",
    "#         for t in data:\n",
    "#             terms.append(t)\n",
    "#             if(t not in terms_dictionary.keys()):\n",
    "#                 terms_dictionary[t]=[]\n",
    "#                 docfreq=1\n",
    "#                 terms_dictionary[t].append(docfreq)\n",
    "#                 docs=[docId]\n",
    "#                 terms_dictionary[t].append(docs)\n",
    "#             else:\n",
    "#                 terms_dictionary.get(t)[1].append(docId)\n",
    "#                 terms_dictionary.get(t)[0]=len(terms_dictionary.get(t)[1])\n",
    "#     print('============================================================')"
   ]
  },
  {
   "cell_type": "code",
   "execution_count": 6,
   "metadata": {},
   "outputs": [],
   "source": [
    "# len(set(terms))"
   ]
  },
  {
   "cell_type": "code",
   "execution_count": 7,
   "metadata": {},
   "outputs": [],
   "source": [
    "# terms[0]"
   ]
  },
  {
   "cell_type": "code",
   "execution_count": 8,
   "metadata": {},
   "outputs": [],
   "source": [
    "# document_ids"
   ]
  },
  {
   "cell_type": "code",
   "execution_count": 9,
   "metadata": {},
   "outputs": [],
   "source": [
    "# terms=list(set(terms))"
   ]
  },
  {
   "cell_type": "code",
   "execution_count": 10,
   "metadata": {},
   "outputs": [],
   "source": [
    "# terms"
   ]
  },
  {
   "cell_type": "code",
   "execution_count": 11,
   "metadata": {},
   "outputs": [],
   "source": [
    "# terms_dictionary['will'][1]"
   ]
  },
  {
   "cell_type": "code",
   "execution_count": 12,
   "metadata": {},
   "outputs": [],
   "source": [
    "# for i in metadata:\n",
    "#     print(i,' ',metadata.get(i))\n",
    "#     break\n",
    "# for i in terms:\n",
    "#     print(i)\n",
    "#     break\n",
    "# print(len(terms))\n",
    "\n",
    "# # print(terms_dictionary.get('bike'))\n",
    "# # print(len(metadata))"
   ]
  },
  {
   "cell_type": "code",
   "execution_count": 13,
   "metadata": {},
   "outputs": [],
   "source": [
    "# metadata"
   ]
  },
  {
   "cell_type": "markdown",
   "metadata": {},
   "source": [
    "### idf=1"
   ]
  },
  {
   "cell_type": "code",
   "execution_count": 14,
   "metadata": {
    "scrolled": true
   },
   "outputs": [],
   "source": [
    "# vsm=[]\n",
    "# vsm_dictionary={}\n",
    "\n",
    "# n=len(document_ids)\n",
    "# count=0\n",
    "# for i in document_ids:\n",
    "# #     print(i)\n",
    "#     d_tf_idf=[]\n",
    "\n",
    "#     doc_words=getDocWords(i)\n",
    "#     doc_length=getDocLength(i)\n",
    "#     for w in terms:\n",
    "# #         print(w)\n",
    "#         freq=doc_words.count(w)\n",
    "#         tf=freq/doc_length\n",
    "\n",
    "#         inner=n/terms_dictionary.get(w)[0]\n",
    "#         idf=math.log(inner)\n",
    "        \n",
    "#         idf=1\n",
    "#         tf_idf=tf*idf\n",
    "        \n",
    "#         d_tf_idf.append(tf_idf)\n",
    "#     vsm.append(d_tf_idf)\n",
    "#     vsm_dictionary[i]=d_tf_idf\n",
    "    \n",
    "#     count+=1\n",
    "#     print(count)"
   ]
  },
  {
   "cell_type": "code",
   "execution_count": null,
   "metadata": {},
   "outputs": [],
   "source": []
  },
  {
   "cell_type": "markdown",
   "metadata": {},
   "source": [
    "## dumping"
   ]
  },
  {
   "cell_type": "code",
   "execution_count": 15,
   "metadata": {},
   "outputs": [],
   "source": [
    "# documentIds_fname='sav/1/document_ids_bow.sav'\n",
    "# joblib.dump(document_ids,documentIds_fname)\n",
    "\n",
    "# metadata_fname='sav/1/metadata_bow.sav'\n",
    "# joblib.dump(metadata,metadata_fname)\n",
    "\n",
    "# terms_fname='sav/1/terms_bow.sav'\n",
    "# joblib.dump(terms,terms_fname)\n",
    "\n",
    "# terms_dictionary_fname='sav/1/terms_dictionary_bow.sav'\n",
    "# joblib.dump(terms_dictionary,terms_dictionary_fname)\n",
    "\n",
    "# vsm_fname='sav/1/vsm_bow.sav'\n",
    "# joblib.dump(vsm,vsm_fname)\n",
    "\n",
    "# vsm_dictionary_fname='sav/1/vsm_dictionary_bow.sav'\n",
    "# joblib.dump(vsm_dictionary,vsm_dictionary_fname)"
   ]
  },
  {
   "cell_type": "code",
   "execution_count": 16,
   "metadata": {},
   "outputs": [],
   "source": [
    "# print(len(vsm),len(vsm[0]),len(vsm_dictionary))"
   ]
  },
  {
   "cell_type": "markdown",
   "metadata": {},
   "source": [
    "### Loading sav files"
   ]
  },
  {
   "cell_type": "code",
   "execution_count": 17,
   "metadata": {},
   "outputs": [],
   "source": [
    "documentIds_fname='sav/1/document_ids_bow.sav'\n",
    "document_ids= joblib.load(documentIds_fname)\n",
    "\n",
    "metadata_fname='sav/1/metadata_bow.sav'\n",
    "metadata=joblib.load(metadata_fname)\n",
    "\n",
    "terms_fname='sav/1/terms_bow.sav'\n",
    "terms=joblib.load(terms_fname)\n",
    "\n",
    "terms_dictionary_fname='sav/1/terms_dictionary_bow.sav'\n",
    "terms_dictionary=joblib.load(terms_dictionary_fname)"
   ]
  },
  {
   "cell_type": "code",
   "execution_count": 18,
   "metadata": {},
   "outputs": [],
   "source": [
    "vsm_fname='sav/1/vsm_bow.sav'\n",
    "vsm=joblib.load(vsm_fname)"
   ]
  },
  {
   "cell_type": "code",
   "execution_count": 20,
   "metadata": {},
   "outputs": [
    {
     "name": "stdout",
     "output_type": "stream",
     "text": [
      "5000 5000 65309 65309\n"
     ]
    }
   ],
   "source": [
    "vsm_dictionary_fname='sav/1/vsm_dictionary_bow.sav'\n",
    "vsm_dictionary=joblib.load(vsm_dictionary_fname)\n",
    "\n",
    "print(len(document_ids),len(metadata),len(terms),len(terms_dictionary))"
   ]
  },
  {
   "cell_type": "code",
   "execution_count": 24,
   "metadata": {},
   "outputs": [],
   "source": [
    "X_class_filename='sav/2/X_class.sav'\n",
    "X_class = joblib.load(X_class_filename)\n",
    "\n",
    "y_class_filename='sav/2/y_class'\n",
    "y_class = joblib.load(y_class_filename)"
   ]
  },
  {
   "cell_type": "markdown",
   "metadata": {},
   "source": [
    "## K-means"
   ]
  },
  {
   "cell_type": "code",
   "execution_count": 21,
   "metadata": {},
   "outputs": [],
   "source": [
    "def ecul_dist(x,y):\n",
    "    sub=np.subtract(x,y)\n",
    "    square = sub**2\n",
    "    summ = np.sum(square)\n",
    "    sqrt = math.sqrt(summ)\n",
    "    return sqrt\n",
    "\n",
    "def mean(args):\n",
    "    meann=[]\n",
    "    for cluster in args:\n",
    "        if(len(cluster)==0):\n",
    "            meann.append(0)\n",
    "            continue\n",
    "        meann.append(np.mean(cluster,axis=0))\n",
    "    return meann  "
   ]
  },
  {
   "cell_type": "code",
   "execution_count": 22,
   "metadata": {},
   "outputs": [],
   "source": [
    "# dist=[]\n",
    "# clusters=[[],[],[],[],[]]\n",
    "\n",
    "# no_of_clusters=5\n",
    "# seed=random.sample(vsm,no_of_clusters)\n",
    "\n",
    "# maxItr=15\n",
    "# count=0\n",
    "# for i in range(maxItr):\n",
    "#     print('Iteration:',i)\n",
    "#     for j in vsm:\n",
    "#         for k in seed:\n",
    "#             dist.append(ecul_dist(k,j))\n",
    "#         min_dist=np.argmin(dist)\n",
    "#         dist=[]\n",
    "#         clusters[min_dist].append(j)\n",
    "        \n",
    "#     seed1= seed\n",
    "#     seed= mean(clusters) \n",
    "\n",
    "#     if (np.array_equal(seed,seed1)):\n",
    "#         print('Updated Centroid')\n",
    "#         print(\"convergence reached!!\")\n",
    "#         break\n",
    "\n",
    "#     for p in clusters:\n",
    "#         if(len(p)==0 and i==0):\n",
    "#             print(\"Invalid Seed Initialization!!\")\n",
    "#             print(\"Changing the seed by randomly picking from data set\")\n",
    "#             maxItr=maxItr+1\n",
    "#             count=0\n",
    "#             seed=random.sample(vsm,no_of_clusters)\n",
    "#             break\n",
    "            \n",
    "#     for l in range(no_of_clusters):\n",
    "#         print(len(clusters[l]),' ', end='')\n",
    "#     if(i != (maxItr-1)):\n",
    "#         clusters=[]\n",
    "#         for l in range(no_of_clusters):\n",
    "#             clusters.append([])\n",
    "#     count=count+1\n",
    "    \n",
    "#     print()"
   ]
  },
  {
   "cell_type": "code",
   "execution_count": 56,
   "metadata": {},
   "outputs": [],
   "source": [
    "def k_means(dataset_w2v , no_of_clusters, maxItr):\n",
    "    dist=[]\n",
    "    clusters=[[],[],[],[],[]]\n",
    "\n",
    "    seed=random.sample(dataset_w2v , no_of_clusters)\n",
    "\n",
    "    purity_plot=[]\n",
    "    ari_plot=[]\n",
    "    nmi_plot=[]\n",
    "    rss_plot=[]\n",
    "    \n",
    "    count=0\n",
    "    predicted_cluster=[]\n",
    "    for i in range(maxItr):\n",
    "        print('-------------------------------------------------')\n",
    "        rss=0\n",
    "        print('Iteration:',i)\n",
    "        for j in dataset_w2v:\n",
    "            for k in seed:\n",
    "                dist.append(ecul_dist(k,j))\n",
    "            min_dist=np.argmin(dist)\n",
    "            \n",
    "            rss+=dist[min_dist]\n",
    "            \n",
    "            dist=[]\n",
    "            clusters[min_dist].append(j)\n",
    "            \n",
    "            predicted_cluster.append(min_dist) ##\n",
    "\n",
    "        seed1= seed\n",
    "        seed= mean(clusters)\n",
    "\n",
    "        if (np.array_equal(seed,seed1)):\n",
    "            print('Updated Centroid')\n",
    "            print(\"convergence reached!!\")\n",
    "            break\n",
    "\n",
    "        for p in clusters:\n",
    "            if(len(p)==0 and i==0):\n",
    "                print(\"Invalid Seed Initialization!!\")\n",
    "                print(\"Changing the seed by randomly picking from data set\")\n",
    "                maxItr=maxItr+1\n",
    "                count=0\n",
    "                seed=random.sample(dataset_w2v,no_of_clusters)\n",
    "                break\n",
    "\n",
    "        for l in range(no_of_clusters):\n",
    "            print(len(clusters[l]),' ', end='')\n",
    "            \n",
    "        \n",
    "        \n",
    "        cont_matrix= contingency_matrix(y_class, predicted_cluster)\n",
    "        \n",
    "#         print(cont_matrix)\n",
    "        \n",
    "        columnwise_max=np.amax(cont_matrix,axis=0)\n",
    "        max_sum=np.sum(columnwise_max)\n",
    "        purity=max_sum/ np.sum(cont_matrix)\n",
    "        \n",
    "        ari=adjusted_rand_score(predicted_cluster, y_class)\n",
    "        nmi=normalized_mutual_info_score(y_class, predicted_cluster)\n",
    "        \n",
    "        purity_plot.append(purity)\n",
    "        ari_plot.append(ari)\n",
    "        rss_plot.append(rss)\n",
    "        nmi_plot.append(nmi)\n",
    "        \n",
    "        print('\\n\\nPurity:', purity, '\\t\\t\\t|\\tARI:', ari , '\\nRSS:', rss, '\\t|\\tNMI:', nmi)        \n",
    "        \n",
    "        if(i != (maxItr-1)):\n",
    "            clusters=[]\n",
    "            predicted_cluster=[]\n",
    "            for l in range(no_of_clusters):\n",
    "                clusters.append([])\n",
    "            \n",
    "        count=count+1\n",
    "        \n",
    "    return purity_plot, ari_plot, rss_plot, nmi_plot, clusters"
   ]
  },
  {
   "cell_type": "code",
   "execution_count": 57,
   "metadata": {},
   "outputs": [
    {
     "name": "stdout",
     "output_type": "stream",
     "text": [
      "-------------------------------------------------\n",
      "Iteration: 0\n",
      "1342  399  1289  1950  20  \n",
      "\n",
      "Purity: 0.2922 \t\t\t|\tARI: 0.03168169538838948 \n",
      "RSS: 701.022988686295 \t|\tNMI: 0.041717725066228936\n",
      "-------------------------------------------------\n",
      "Iteration: 1\n",
      "1628  383  1044  1921  24  \n",
      "\n",
      "Purity: 0.2892 \t\t\t|\tARI: 0.025282713614710465 \n",
      "RSS: 534.2168316604761 \t|\tNMI: 0.0391493119350891\n",
      "-------------------------------------------------\n",
      "Iteration: 2\n",
      "1755  349  950  1904  42  \n",
      "\n",
      "Purity: 0.2926 \t\t\t|\tARI: 0.02627797901716412 \n",
      "RSS: 530.9438783741565 \t|\tNMI: 0.04385453824395306\n",
      "-------------------------------------------------\n",
      "Iteration: 3\n",
      "1727  322  1169  1756  26  \n",
      "\n",
      "Purity: 0.2858 \t\t\t|\tARI: 0.027285822081854646 \n",
      "RSS: 526.7160571008837 \t|\tNMI: 0.040035492752037466\n",
      "-------------------------------------------------\n",
      "Iteration: 4\n",
      "1730  292  1306  1654  18  \n",
      "\n",
      "Purity: 0.283 \t\t\t|\tARI: 0.026840829987402306 \n",
      "RSS: 525.9158809005942 \t|\tNMI: 0.03723286972131384\n",
      "-------------------------------------------------\n",
      "Iteration: 5\n",
      "1719  264  1442  1560  15  \n",
      "\n",
      "Purity: 0.2858 \t\t\t|\tARI: 0.026819103957420567 \n",
      "RSS: 525.6650242559874 \t|\tNMI: 0.036736957632806315\n",
      "-------------------------------------------------\n",
      "Iteration: 6\n",
      "1712  236  1555  1483  14  \n",
      "\n",
      "Purity: 0.2848 \t\t\t|\tARI: 0.024540140557852218 \n",
      "RSS: 525.8260914108401 \t|\tNMI: 0.0341109805021066\n",
      "-------------------------------------------------\n",
      "Iteration: 7\n",
      "1703  208  1657  1419  13  \n",
      "\n",
      "Purity: 0.2846 \t\t\t|\tARI: 0.02409346806510377 \n",
      "RSS: 525.8884275718896 \t|\tNMI: 0.03432467372998334\n",
      "-------------------------------------------------\n",
      "Iteration: 8\n",
      "1675  181  1766  1365  13  \n",
      "\n",
      "Purity: 0.2868 \t\t\t|\tARI: 0.023552311229695092 \n",
      "RSS: 525.9737548598575 \t|\tNMI: 0.03410126417959898\n",
      "-------------------------------------------------\n",
      "Iteration: 9\n",
      "1658  167  1871  1291  13  \n",
      "\n",
      "Purity: 0.2852 \t\t\t|\tARI: 0.021874835754387978 \n",
      "RSS: 525.9685546836822 \t|\tNMI: 0.03257501434363559\n",
      "-------------------------------------------------\n",
      "Iteration: 10\n",
      "1646  150  1952  1239  13  \n",
      "\n",
      "Purity: 0.2864 \t\t\t|\tARI: 0.02144894331497785 \n",
      "RSS: 525.912885743313 \t|\tNMI: 0.032305383035095434\n",
      "-------------------------------------------------\n",
      "Iteration: 11\n",
      "1644  133  2027  1183  13  \n",
      "\n",
      "Purity: 0.284 \t\t\t|\tARI: 0.020048022877274748 \n",
      "RSS: 525.8902868343365 \t|\tNMI: 0.031074407907379534\n",
      "-------------------------------------------------\n",
      "Iteration: 12\n",
      "1646  113  2091  1137  13  \n",
      "\n",
      "Purity: 0.2798 \t\t\t|\tARI: 0.018926103368410142 \n",
      "RSS: 525.8543230579279 \t|\tNMI: 0.029960653475774476\n",
      "-------------------------------------------------\n",
      "Iteration: 13\n",
      "1666  93  2133  1095  13  \n",
      "\n",
      "Purity: 0.2762 \t\t\t|\tARI: 0.017467684599466356 \n",
      "RSS: 525.882630921209 \t|\tNMI: 0.028631205400304425\n",
      "-------------------------------------------------\n",
      "Iteration: 14\n",
      "1693  81  2177  1036  13  \n",
      "\n",
      "Purity: 0.2776 \t\t\t|\tARI: 0.01819186639855963 \n",
      "RSS: 525.9028332282212 \t|\tNMI: 0.03006128161643496\n",
      "-------------------------------------------------\n",
      "Iteration: 15\n",
      "1733  72  2178  1004  13  \n",
      "\n",
      "Purity: 0.276 \t\t\t|\tARI: 0.017992131059864153 \n",
      "RSS: 525.9363671448867 \t|\tNMI: 0.02920946475611957\n",
      "-------------------------------------------------\n",
      "Iteration: 16\n",
      "1762  64  2198  963  13  \n",
      "\n",
      "Purity: 0.275 \t\t\t|\tARI: 0.017871637388266855 \n",
      "RSS: 525.9791122166799 \t|\tNMI: 0.02907874975264683\n",
      "-------------------------------------------------\n",
      "Iteration: 17\n",
      "1793  55  2206  933  13  \n",
      "\n",
      "Purity: 0.2764 \t\t\t|\tARI: 0.018647786103042095 \n",
      "RSS: 526.0163667398017 \t|\tNMI: 0.029551812494760077\n",
      "-------------------------------------------------\n",
      "Iteration: 18\n",
      "1822  48  2216  901  13  \n",
      "\n",
      "Purity: 0.2754 \t\t\t|\tARI: 0.018213569142073602 \n",
      "RSS: 526.0609184162209 \t|\tNMI: 0.029071140143525402\n",
      "-------------------------------------------------\n",
      "Iteration: 19\n",
      "1848  40  2229  870  13  \n",
      "\n",
      "Purity: 0.2736 \t\t\t|\tARI: 0.017668170344979233 \n",
      "RSS: 526.0875582810035 \t|\tNMI: 0.02788247908180251\n"
     ]
    }
   ],
   "source": [
    "no_of_clusters=5\n",
    "maxItr=20\n",
    "purity_plot, ari_plot, rss_plot, nmi_plot, clusters = k_means(vsm, no_of_clusters, maxItr)"
   ]
  },
  {
   "cell_type": "code",
   "execution_count": 58,
   "metadata": {},
   "outputs": [],
   "source": [
    "# for l in range(no_of_clusters):\n",
    "#         print(len(clusters[l]),' ', end='')"
   ]
  },
  {
   "cell_type": "code",
   "execution_count": 59,
   "metadata": {},
   "outputs": [
    {
     "data": {
      "image/png": "[encoded data removed]",
      "text/plain": [
       "<Figure size 432x288 with 1 Axes>"
      ]
     },
     "metadata": {
      "needs_background": "light"
     },
     "output_type": "display_data"
    },
    {
     "data": {
      "image/png": "[encoded data removed]",
      "text/plain": [
       "<Figure size 432x288 with 1 Axes>"
      ]
     },
     "metadata": {
      "needs_background": "light"
     },
     "output_type": "display_data"
    },
    {
     "data": {
      "image/png": "[encoded data removed]",
      "text/plain": [
       "<Figure size 432x288 with 1 Axes>"
      ]
     },
     "metadata": {
      "needs_background": "light"
     },
     "output_type": "display_data"
    },
    {
     "data": {
      "image/png": "[encoded data removed]",
      "text/plain": [
       "<Figure size 432x288 with 1 Axes>"
      ]
     },
     "metadata": {
      "needs_background": "light"
     },
     "output_type": "display_data"
    }
   ],
   "source": [
    "plt.title('Purity')\n",
    "plt.plot(range(len(purity_plot)), purity_plot,color='r')\n",
    "plt.xlabel('iterations')\n",
    "plt.ylabel('purity')\n",
    "plt.show()\n",
    "\n",
    "plt.title('ARI')\n",
    "plt.plot(range(len(ari_plot)), ari_plot,color='b')\n",
    "plt.xlabel('iterations')\n",
    "plt.ylabel('ARI')\n",
    "plt.show()\n",
    "\n",
    "plt.title('RSS')\n",
    "plt.plot(range(len(rss_plot)), rss_plot,color='g')\n",
    "plt.xlabel('iterations')\n",
    "plt.ylabel('RSS')\n",
    "plt.show()\n",
    "\n",
    "plt.title('NMI')\n",
    "plt.plot(range(len(nmi_plot)), nmi_plot,color='c')\n",
    "plt.xlabel('iterations')\n",
    "plt.ylabel('NMI')\n",
    "plt.show()"
   ]
  },
  {
   "cell_type": "code",
   "execution_count": null,
   "metadata": {},
   "outputs": [],
   "source": []
  }
 ],
 "metadata": {
  "kernelspec": {
   "display_name": "Python 3",
   "language": "python",
   "name": "python3"
  },
  "language_info": {
   "codemirror_mode": {
    "name": "ipython",
    "version": 3
   },
   "file_extension": ".py",
   "mimetype": "text/x-python",
   "name": "python",
   "nbconvert_exporter": "python",
   "pygments_lexer": "ipython3",
   "version": "3.7.1"
  }
 },
 "nbformat": 4,
 "nbformat_minor": 2
}
