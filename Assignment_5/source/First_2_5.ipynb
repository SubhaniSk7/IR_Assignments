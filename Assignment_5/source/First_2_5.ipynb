{
 "cells": [
  {
   "cell_type": "code",
   "execution_count": 61,
   "metadata": {},
   "outputs": [],
   "source": [
    "import nltk\n",
    "import os,math,glob,re,copy,random\n",
    "\n",
    "from nltk.corpus import stopwords \n",
    "from nltk.tokenize import word_tokenize,RegexpTokenizer,TweetTokenizer\n",
    "from nltk.stem.porter import PorterStemmer\n",
    "from nltk import wordpunct_tokenize\n",
    "from nltk.stem import WordNetLemmatizer\n",
    "\n",
    "import re as regex\n",
    "import numpy as np\n",
    "from sklearn.externals import joblib\n",
    "import contractions\n",
    "from operator import itemgetter\n",
    "from itertools import chain\n",
    "\n",
    "from sklearn.model_selection import train_test_split\n",
    "import matplotlib.pyplot as plt\n",
    "import seaborn as sns\n",
    "import gensim\n",
    "\n",
    "from sklearn.metrics import confusion_matrix,accuracy_score,normalized_mutual_info_score\n",
    "from sklearn.metrics.cluster import adjusted_rand_score, adjusted_mutual_info_score,contingency_matrix\n",
    "\n",
    "import matplotlib.pyplot as plt"
   ]
  },
  {
   "cell_type": "code",
   "execution_count": 2,
   "metadata": {},
   "outputs": [],
   "source": [
    "# from my previous assignment\n",
    "def contract(text):\n",
    "    return contractions.fix(text)\n",
    "\n",
    "def regTokenize(text):\n",
    "#     tok=RegexpTokenizer('[A-Za-z0-9]*[.]?\\w+')\n",
    "    tok=RegexpTokenizer('[A-Za-z0-9]?\\w+')\n",
    "    return tok.tokenize(text) \n",
    "\n",
    "def lowercase(text):\n",
    "    return text.lower()\n",
    "\n",
    "def lemma(words):\n",
    "    for i in range(0,len(words)):\n",
    "        words[i]=WordNetLemmatizer().lemmatize(words[i])\n",
    "    return words\n",
    "\n",
    "def stemming(words):\n",
    "    porter_stemmer=PorterStemmer()\n",
    "    for i in range(0,len(words)):\n",
    "        words[i]=porter_stemmer.stem(words[i])\n",
    "    return words\n",
    "\n",
    "def tweet(words):\n",
    "    tok=TweetTokenizer()\n",
    "    return tok.tokenize(words)\n",
    "\n",
    "def comma(text):\n",
    "    text = \"\".join(c for c in text if c not in ('!','.',':',',','\"','?','(',')'))\n",
    "    return text\n",
    "\n",
    "def removestopwords(text):\n",
    "    stopWords = set(stopwords.words('english'))\n",
    "    wordsFiltered = []\n",
    "    for w in text:\n",
    "        if w not in stopWords:\n",
    "            wordsFiltered.append(w)\n",
    "    return wordsFiltered"
   ]
  },
  {
   "cell_type": "code",
   "execution_count": 3,
   "metadata": {},
   "outputs": [],
   "source": [
    "# #some functions are from previous Assignment\n",
    "# def getDocLength(docId):#getting len(document)=number of words in that document from metadata\n",
    "#     return metadata.get(docId)\n",
    "\n",
    "# def getWordFreqInBodyDoc(docId,word):#getting word frequency in doc in document\n",
    "#     f=open(docId,'r+',errors='ignore')\n",
    "#     data=f.read()\n",
    "#     data=lowercase(data)\n",
    "#     data=contract(data)\n",
    "#     data=comma(data)\n",
    "#     data=regTokenize(data)\n",
    "#     data=lemma(data)\n",
    "# #     data=stemming(data)\n",
    "#     freq=data.count(word)\n",
    "#     return freq\n",
    "\n",
    "# def getQTermPosts(term):#getting postings of term from dictionary\n",
    "#     return terms_dictionary_load.get(term)[1]\n",
    "\n",
    "# def getTermDocFreq(t):\n",
    "#     return terms_dictionary_load.get(t)[0]\n",
    "\n",
    "# def getDocWords(docId):\n",
    "#     f=open(docId,'r+',errors='ignore')\n",
    "#     data=f.read()\n",
    "#     data=lowercase(data)\n",
    "#     data=contract(data)\n",
    "#     data=comma(data)\n",
    "#     data=regTokenize(data)\n",
    "#     data=lemma(data)\n",
    "# #     data=stemming(data)\n",
    "#     return data"
   ]
  },
  {
   "cell_type": "code",
   "execution_count": 4,
   "metadata": {},
   "outputs": [],
   "source": [
    "classes={'comp.graphics':0,'rec.sport.hockey':1,'sci.med':2,'sci.space':3,'talk.politics.misc':4}"
   ]
  },
  {
   "cell_type": "markdown",
   "metadata": {},
   "source": [
    "#### Structures\n",
    "#### terms=[words]\n",
    "#### terms_dictionary={term :[#df,[filname1,filename2,...]]}   --> Inverted Index\n",
    "#### metadata= [ [filename, #words],[..],.. ]\n",
    "\n",
    "#### document_id=[filename1,..]\n",
    "\n",
    "#### vsm=[ [tf-idf,..], [..], .. ] --> tf-idf vector for each document"
   ]
  },
  {
   "cell_type": "code",
   "execution_count": 5,
   "metadata": {},
   "outputs": [],
   "source": [
    "# document_ids=[]\n",
    "# # metadata=[]\n",
    "# metadata={}\n",
    "# terms=[]\n",
    "# terms_dictionary={}\n",
    "\n",
    "# path = 'q1_q2_dataset'\n",
    "# print(path)\n",
    "# for dire in glob.glob(os.path.join(path, '*')):\n",
    "#     print(dire)\n",
    "#     for filename in glob.glob(os.path.join(dire, '*')):\n",
    "#         st=filename.split('\\\\')\n",
    "#         s=path+'/'+st[1]+'/'+st[2]\n",
    "# #         print(s)\n",
    "#         docId=s\n",
    "#         document_ids.append(docId)\n",
    "\n",
    "#         f=open(filename,'r+')\n",
    "#         data=f.read()\n",
    "\n",
    "#         data=lowercase(data)\n",
    "#         data=contract(data)\n",
    "#         data=regTokenize(data)\n",
    "#         data=lemma(data)\n",
    "# #         data=stemming(data)\n",
    "\n",
    "#         data=list(set(data))\n",
    "        \n",
    "#         temp=[]\n",
    "#         temp.append(s)\n",
    "#         temp.append(len(data))\n",
    "# #         metadata.append(temp)\n",
    "#         metadata[s]=len(data)\n",
    "        \n",
    "#         for t in data:\n",
    "#             terms.append(t)\n",
    "#             if(t not in terms_dictionary.keys()):\n",
    "#                 terms_dictionary[t]=[]\n",
    "#                 docfreq=1\n",
    "#                 terms_dictionary[t].append(docfreq)\n",
    "#                 docs=[docId]\n",
    "#                 terms_dictionary[t].append(docs)\n",
    "#             else:\n",
    "#                 terms_dictionary.get(t)[1].append(docId)\n",
    "#                 terms_dictionary.get(t)[0]=len(terms_dictionary.get(t)[1])\n",
    "#     print('============================================================')"
   ]
  },
  {
   "cell_type": "code",
   "execution_count": 6,
   "metadata": {},
   "outputs": [],
   "source": [
    "# terms=list(set(terms))"
   ]
  },
  {
   "cell_type": "code",
   "execution_count": 7,
   "metadata": {},
   "outputs": [],
   "source": [
    "# for i in metadata:\n",
    "#     print(i,' ',metadata.get(i))\n",
    "#     break\n",
    "# for i in terms:\n",
    "#     print(i)\n",
    "#     break"
   ]
  },
  {
   "cell_type": "code",
   "execution_count": 8,
   "metadata": {},
   "outputs": [],
   "source": [
    "# vsm=[]\n",
    "\n",
    "# n=len(document_ids)\n",
    "# count=0\n",
    "# for i in document_ids:\n",
    "# #     print(i)\n",
    "#     d_tf_idf=[]\n",
    "\n",
    "#     doc_words=getDocWords(i)\n",
    "#     doc_length=getDocLength(i)\n",
    "#     for w in terms:\n",
    "# #         print(w)\n",
    "#         freq=doc_words.count(w)\n",
    "#         tf=freq/doc_length\n",
    "\n",
    "#         inner=n/terms_dictionary.get(w)[0]\n",
    "#         idf=math.log(inner)\n",
    "#         tf_idf=tf*idf\n",
    "        \n",
    "#         d_tf_idf.append(tf_idf)\n",
    "#     vsm.append(d_tf_idf)\n",
    "    \n",
    "#     count+=1\n",
    "#     print(count)"
   ]
  },
  {
   "cell_type": "markdown",
   "metadata": {},
   "source": [
    "## dumping"
   ]
  },
  {
   "cell_type": "code",
   "execution_count": 9,
   "metadata": {},
   "outputs": [],
   "source": [
    "# documentIds_fname='sav/1/document_ids_bow.sav'\n",
    "# joblib.dump(document_ids,documentIds_fname)\n",
    "\n",
    "# metadata_fname='sav/1/metadata_bow.sav'\n",
    "# joblib.dump(metadata,metadata_fname)\n",
    "\n",
    "# terms_fname='sav/1/terms_bow.sav'\n",
    "# joblib.dump(terms,terms_fname)\n",
    "\n",
    "# terms_dictionary_fname='sav/1/terms_dictionary_bow.sav'\n",
    "# joblib.dump(terms_dictionary,terms_dictionary_fname)\n",
    "\n",
    "# vsm_fname='sav/1/vsm_bow.sav'\n",
    "# joblib.dump(vsm,vsm_fname)"
   ]
  },
  {
   "cell_type": "code",
   "execution_count": null,
   "metadata": {},
   "outputs": [],
   "source": []
  },
  {
   "cell_type": "markdown",
   "metadata": {},
   "source": [
    "### Loading"
   ]
  },
  {
   "cell_type": "code",
   "execution_count": 10,
   "metadata": {},
   "outputs": [
    {
     "name": "stdout",
     "output_type": "stream",
     "text": [
      "5000 5000 65309 65309\n"
     ]
    }
   ],
   "source": [
    "documentIds_fname='sav/1/document_ids_bow.sav'\n",
    "document_ids= joblib.load(documentIds_fname)\n",
    "\n",
    "metadata_fname='sav/1/metadata_bow.sav'\n",
    "metadata=joblib.load(metadata_fname)\n",
    "\n",
    "terms_fname='sav/1/terms_bow.sav'\n",
    "terms=joblib.load(terms_fname)\n",
    "\n",
    "terms_dictionary_fname='sav/1/terms_dictionary_bow.sav'\n",
    "terms_dictionary=joblib.load(terms_dictionary_fname)\n",
    "\n",
    "# vsm_fname='sav/1/vsm_bow.sav'\n",
    "# vsm=joblib.load(vsm_fname)\n",
    "\n",
    "print(len(document_ids),len(metadata),len(terms),len(terms_dictionary))"
   ]
  },
  {
   "cell_type": "code",
   "execution_count": 11,
   "metadata": {},
   "outputs": [],
   "source": [
    "# document_ids"
   ]
  },
  {
   "cell_type": "code",
   "execution_count": 12,
   "metadata": {},
   "outputs": [
    {
     "name": "stdout",
     "output_type": "stream",
     "text": [
      "q1_q2_dataset\n",
      "q1_q2_dataset\\comp.graphics\n",
      "============================================================\n",
      "q1_q2_dataset\\rec.sport.hockey\n",
      "============================================================\n",
      "q1_q2_dataset\\sci.med\n",
      "============================================================\n",
      "q1_q2_dataset\\sci.space\n",
      "============================================================\n",
      "q1_q2_dataset\\talk.politics.misc\n",
      "============================================================\n"
     ]
    }
   ],
   "source": [
    "path = 'q1_q2_dataset'\n",
    "print(path)\n",
    "\n",
    "docs_with_words=[]\n",
    "for dire in glob.glob(os.path.join(path, '*')):\n",
    "    print(dire)\n",
    "    for filename in glob.glob(os.path.join(dire, '*')):\n",
    "        \n",
    "        words=[]\n",
    "        \n",
    "        st=filename.split('\\\\')\n",
    "        s=path+'/'+st[1]+'/'+st[2]\n",
    "#         print(s)\n",
    "        docId=s\n",
    "\n",
    "        f=open(filename,'r+')\n",
    "        data=f.read()\n",
    "\n",
    "        data=lowercase(data)\n",
    "        data=contract(data)\n",
    "        data=regTokenize(data)\n",
    "        data=lemma(data)\n",
    "#         data=stemming(data)\n",
    "\n",
    "        data=list(set(data))\n",
    "        \n",
    "        docs_with_words.append(data)\n",
    "\n",
    "    print('============================================================')"
   ]
  },
  {
   "cell_type": "code",
   "execution_count": 13,
   "metadata": {},
   "outputs": [
    {
     "data": {
      "text/plain": [
       "5000"
      ]
     },
     "execution_count": 13,
     "metadata": {},
     "output_type": "execute_result"
    }
   ],
   "source": [
    "len(docs_with_words)"
   ]
  },
  {
   "cell_type": "markdown",
   "metadata": {},
   "source": [
    "### dumping docs_with_words"
   ]
  },
  {
   "cell_type": "code",
   "execution_count": 14,
   "metadata": {},
   "outputs": [
    {
     "data": {
      "text/plain": [
       "['sav/2/docs_with_words.sav']"
      ]
     },
     "execution_count": 14,
     "metadata": {},
     "output_type": "execute_result"
    }
   ],
   "source": [
    "docs_with_words_filename='sav/2/docs_with_words.sav'\n",
    "joblib.dump(docs_with_words,docs_with_words_filename)"
   ]
  },
  {
   "cell_type": "markdown",
   "metadata": {},
   "source": [
    "### Loading docs_with_words"
   ]
  },
  {
   "cell_type": "code",
   "execution_count": 15,
   "metadata": {},
   "outputs": [
    {
     "name": "stdout",
     "output_type": "stream",
     "text": [
      "5000\n"
     ]
    }
   ],
   "source": [
    "docs_with_words_filename='sav/2/docs_with_words.sav'\n",
    "docs_with_words = joblib.load(docs_with_words_filename)\n",
    "print(len(docs_with_words))"
   ]
  },
  {
   "cell_type": "markdown",
   "metadata": {},
   "source": [
    "### Loading Word2Vec pre-trained model"
   ]
  },
  {
   "cell_type": "code",
   "execution_count": 16,
   "metadata": {},
   "outputs": [],
   "source": [
    "w2v_model = gensim.models.KeyedVectors.load_word2vec_format('C:/Users/Subhani/Documents/Jupyter IR/Assignment_5/GoogleNews-vectors-negative300.bin.gz', binary=True) "
   ]
  },
  {
   "cell_type": "markdown",
   "metadata": {},
   "source": [
    "## Avg Word2Vec"
   ]
  },
  {
   "cell_type": "code",
   "execution_count": 17,
   "metadata": {},
   "outputs": [
    {
     "name": "stderr",
     "output_type": "stream",
     "text": [
      "C:\\ProgramData\\Anaconda3\\lib\\site-packages\\ipykernel_launcher.py:13: DeprecationWarning: Call to deprecated `wv` (Attribute will be removed in 4.0.0, use self instead).\n",
      "  del sys.path[0]\n"
     ]
    },
    {
     "name": "stdout",
     "output_type": "stream",
     "text": [
      "5000\n",
      "300\n"
     ]
    }
   ],
   "source": [
    "avg_w2v= []\n",
    "avg_w2v_dictionary={}\n",
    "count=0\n",
    "k=0\n",
    "\n",
    "for document in docs_with_words:\n",
    "    \n",
    "    count=count+1\n",
    "    residual_vector = np.zeros(300)\n",
    "    count_words=0\n",
    "    for word in document:\n",
    "        try:\n",
    "            vec = w2v_model.wv[word]\n",
    "            residual_vector += vec\n",
    "            count_words += 1\n",
    "        except:\n",
    "            pass\n",
    "    residual_vector /= count_words\n",
    "    avg_w2v.append(residual_vector)\n",
    "    \n",
    "    avg_w2v_dictionary[document_ids[k]]=residual_vector\n",
    "    k+=1\n",
    "print(len(avg_w2v))\n",
    "print(len(avg_w2v[2]))"
   ]
  },
  {
   "cell_type": "markdown",
   "metadata": {},
   "source": [
    "## Tf-Idf Word2Vec"
   ]
  },
  {
   "cell_type": "code",
   "execution_count": 18,
   "metadata": {},
   "outputs": [
    {
     "name": "stderr",
     "output_type": "stream",
     "text": [
      "C:\\ProgramData\\Anaconda3\\lib\\site-packages\\ipykernel_launcher.py:16: DeprecationWarning: Call to deprecated `wv` (Attribute will be removed in 4.0.0, use self instead).\n",
      "  app.launch_new_instance()\n"
     ]
    },
    {
     "name": "stdout",
     "output_type": "stream",
     "text": [
      "5000\n",
      "300\n"
     ]
    }
   ],
   "source": [
    "tf_idf_w2v= []\n",
    "tf_idf_w2v_dictionary={}\n",
    "k=0\n",
    "\n",
    "count=0\n",
    "total_docs=5000\n",
    "for document in docs_with_words:\n",
    "    count=count+1\n",
    "    residual_vec = np.zeros(300)\n",
    "    weight_sum=0\n",
    "    for word in document:\n",
    "        tf = (document.count(word)) / len(document)\n",
    "        idf = math.log(total_docs/terms_dictionary.get(word)[0])\n",
    "        tf_idf = tf*idf\n",
    "        try:\n",
    "            vec = w2v_model.wv[word]\n",
    "            #get tfidf of each word\n",
    "            residual_vec += (vec*tf_idf)\n",
    "            weight_sum += tf_idf\n",
    "        except:\n",
    "            pass\n",
    "    residual_vec /= weight_sum\n",
    "    tf_idf_w2v.append(residual_vec)\n",
    "    \n",
    "    tf_idf_w2v_dictionary[document_ids[k]]=residual_vec\n",
    "    k+=1\n",
    "print(len(tf_idf_w2v))\n",
    "print(len(tf_idf_w2v[2]))"
   ]
  },
  {
   "cell_type": "code",
   "execution_count": 19,
   "metadata": {},
   "outputs": [
    {
     "name": "stdout",
     "output_type": "stream",
     "text": [
      "5000 5000\n"
     ]
    }
   ],
   "source": [
    "print(len(avg_w2v_dictionary),len(tf_idf_w2v_dictionary))"
   ]
  },
  {
   "cell_type": "code",
   "execution_count": 20,
   "metadata": {},
   "outputs": [
    {
     "data": {
      "text/plain": [
       "'q1_q2_dataset/comp.graphics/37261'"
      ]
     },
     "execution_count": 20,
     "metadata": {},
     "output_type": "execute_result"
    }
   ],
   "source": [
    "document_ids[0]"
   ]
  },
  {
   "cell_type": "markdown",
   "metadata": {},
   "source": [
    "### dumping 'avg_w2v' and 'tf_idf_w2v'"
   ]
  },
  {
   "cell_type": "code",
   "execution_count": 21,
   "metadata": {},
   "outputs": [
    {
     "data": {
      "text/plain": [
       "300"
      ]
     },
     "execution_count": 21,
     "metadata": {},
     "output_type": "execute_result"
    }
   ],
   "source": [
    "len(avg_w2v_dictionary.get('q1_q2_dataset/comp.graphics/37261'))"
   ]
  },
  {
   "cell_type": "code",
   "execution_count": 22,
   "metadata": {},
   "outputs": [
    {
     "data": {
      "text/plain": [
       "['sav/2/tf_idf_w2v_dictionary.sav']"
      ]
     },
     "execution_count": 22,
     "metadata": {},
     "output_type": "execute_result"
    }
   ],
   "source": [
    "avg_w2v_filename='sav/2/avg_w2v.sav'\n",
    "joblib.dump(avg_w2v, avg_w2v_filename)\n",
    "\n",
    "tf_idf_w2v_filename='sav/2/tf_idf_w2v.sav'\n",
    "joblib.dump(tf_idf_w2v, tf_idf_w2v_filename)\n",
    "\n",
    "avg_w2v_dictionary_filename='sav/2/avg_w2v_dictionary.sav'\n",
    "joblib.dump(avg_w2v_dictionary,avg_w2v_dictionary_filename)\n",
    "\n",
    "tf_idf_w2v_dictionary_filename='sav/2/tf_idf_w2v_dictionary.sav'\n",
    "joblib.dump(tf_idf_w2v_dictionary, tf_idf_w2v_dictionary_filename)"
   ]
  },
  {
   "cell_type": "markdown",
   "metadata": {},
   "source": [
    "### Loading 'avg_w2v' and 'tf_idf_w2v'"
   ]
  },
  {
   "cell_type": "code",
   "execution_count": 23,
   "metadata": {},
   "outputs": [],
   "source": [
    "avg_w2v_filename='sav/2/avg_w2v.sav'\n",
    "avg_w2v = joblib.load(avg_w2v_filename)\n",
    "\n",
    "tf_idf_w2v_filename='sav/2/tf_idf_w2v.sav'\n",
    "tf_idf_w2v = joblib.load(tf_idf_w2v_filename)\n",
    "\n",
    "avg_w2v_dictionary_filename='sav/2/avg_w2v_dictionary.sav'\n",
    "avg_w2v_dictionary = joblib.load(avg_w2v_dictionary_filename)\n",
    "\n",
    "tf_idf_w2v_dictionary_filename='sav/2/tf_idf_w2v_dictionary.sav'\n",
    "tf_idf_w2v_dictionary = joblib.load(tf_idf_w2v_dictionary_filename)\n"
   ]
  },
  {
   "cell_type": "code",
   "execution_count": null,
   "metadata": {},
   "outputs": [],
   "source": []
  },
  {
   "cell_type": "markdown",
   "metadata": {},
   "source": [
    "### Evaluation Metrics"
   ]
  },
  {
   "cell_type": "code",
   "execution_count": null,
   "metadata": {},
   "outputs": [],
   "source": []
  },
  {
   "cell_type": "markdown",
   "metadata": {},
   "source": [
    "## K-means methods"
   ]
  },
  {
   "cell_type": "code",
   "execution_count": 32,
   "metadata": {},
   "outputs": [],
   "source": [
    "X_class_filename='sav/2/X_class.sav'\n",
    "X_class = joblib.load(X_class_filename)\n",
    "\n",
    "y_class_filename='sav/2/y_class'\n",
    "y_class = joblib.load(y_class_filename)"
   ]
  },
  {
   "cell_type": "code",
   "execution_count": 24,
   "metadata": {},
   "outputs": [],
   "source": [
    "def ecul_dist(x,y):\n",
    "    sub=np.subtract(x,y)\n",
    "    square = sub**2\n",
    "    summ = np.sum(square)\n",
    "    sqrt = math.sqrt(summ)\n",
    "    return sqrt\n",
    "\n",
    "def mean(args):\n",
    "    meann=[]\n",
    "    for cluster in args:\n",
    "        if(len(cluster)==0):\n",
    "            meann.append(0)\n",
    "            continue\n",
    "        meann.append(np.mean(cluster,axis=0))\n",
    "    return meann  "
   ]
  },
  {
   "cell_type": "code",
   "execution_count": 73,
   "metadata": {},
   "outputs": [],
   "source": [
    "def k_means(dataset_w2v , no_of_clusters, maxItr):\n",
    "    dist=[]\n",
    "    clusters=[[],[],[],[],[]]\n",
    "\n",
    "    seed=random.sample(dataset_w2v , no_of_clusters)\n",
    "\n",
    "    purity_plot=[]\n",
    "    ari_plot=[]\n",
    "    nmi_plot=[]\n",
    "    rss_plot=[]\n",
    "    \n",
    "    count=0\n",
    "    predicted_cluster=[]\n",
    "    for i in range(maxItr):\n",
    "        print('-------------------------------------------------')\n",
    "        rss=0\n",
    "        print('Iteration:',i)\n",
    "        for j in dataset_w2v:\n",
    "            for k in seed:\n",
    "                dist.append(ecul_dist(k,j))\n",
    "            min_dist=np.argmin(dist)\n",
    "            \n",
    "            rss+=dist[min_dist]\n",
    "            \n",
    "            dist=[]\n",
    "            clusters[min_dist].append(j)\n",
    "            \n",
    "            predicted_cluster.append(min_dist) ##\n",
    "\n",
    "        seed1= seed\n",
    "        seed= mean(clusters)\n",
    "\n",
    "        if (np.array_equal(seed,seed1)):\n",
    "            print('Updated Centroid')\n",
    "            print(\"convergence reached!!\")\n",
    "            break\n",
    "\n",
    "        for p in clusters:\n",
    "            if(len(p)==0 and i==0):\n",
    "                print(\"Invalid Seed Initialization!!\")\n",
    "                print(\"Changing the seed by randomly picking from data set\")\n",
    "                maxItr=maxItr+1\n",
    "                count=0\n",
    "                seed=random.sample(dataset_w2v,no_of_clusters)\n",
    "                break\n",
    "\n",
    "        for l in range(no_of_clusters):\n",
    "            print(len(clusters[l]),' ', end='')\n",
    "            \n",
    "        \n",
    "        \n",
    "        cont_matrix= contingency_matrix(y_class, predicted_cluster)\n",
    "        purity=np.sum(np.amax(cont_matrix,axis=0)) / np.sum(cont_matrix)\n",
    "        \n",
    "        ari=adjusted_rand_score(predicted_cluster, y_class)\n",
    "        nmi=normalized_mutual_info_score(y_class, predicted_cluster)\n",
    "        \n",
    "        purity_plot.append(purity)\n",
    "        ari_plot.append(ari)\n",
    "        rss_plot.append(rss)\n",
    "        nmi_plot.append(nmi)\n",
    "        \n",
    "        print('\\n\\nPurity:', purity, '\\t\\t\\t|\\tARI:', ari , '\\nRSS:', rss, '\\t|\\tNMI:', nmi)        \n",
    "        \n",
    "        if(i != (maxItr-1)):\n",
    "            clusters=[]\n",
    "            predicted_cluster=[]\n",
    "            for l in range(no_of_clusters):\n",
    "                clusters.append([])\n",
    "            \n",
    "        count=count+1\n",
    "        \n",
    "    return purity_plot, ari_plot, rss_plot, nmi_plot, clusters"
   ]
  },
  {
   "cell_type": "markdown",
   "metadata": {},
   "source": [
    "### K_Means avg_w2v"
   ]
  },
  {
   "cell_type": "code",
   "execution_count": 74,
   "metadata": {},
   "outputs": [
    {
     "name": "stdout",
     "output_type": "stream",
     "text": [
      "-------------------------------------------------\n",
      "Iteration: 0\n",
      "633  109  1682  2110  466  \n",
      "\n",
      "Purity: 0.3274 \t\t\t|\tARI: 0.06505532059048769 \n",
      "RSS: 1739.2932648529488 \t|\tNMI: 0.08873360766488585\n",
      "-------------------------------------------------\n",
      "Iteration: 1\n",
      "927"
     ]
    },
    {
     "name": "stderr",
     "output_type": "stream",
     "text": [
      "C:\\ProgramData\\Anaconda3\\lib\\site-packages\\sklearn\\metrics\\cluster\\supervised.py:844: FutureWarning: The behavior of NMI will change in version 0.22. To match the behavior of 'v_measure_score', NMI will use average_method='arithmetic' by default.\n",
      "  FutureWarning)\n"
     ]
    },
    {
     "name": "stdout",
     "output_type": "stream",
     "text": [
      "  148  1466  1785  674  \n",
      "\n",
      "Purity: 0.3366 \t\t\t|\tARI: 0.059886787059037654 \n",
      "RSS: 1269.2532287514268 \t|\tNMI: 0.0838799686809283\n",
      "-------------------------------------------------\n",
      "Iteration: 2\n",
      "1007  151  1490  1621  731  \n",
      "\n",
      "Purity: 0.3588 \t\t\t|\tARI: 0.07433539303756419 \n",
      "RSS: 1255.9449610088564 \t|\tNMI: 0.10258568132962816\n",
      "-------------------------------------------------\n",
      "Iteration: 3\n",
      "1070  143  1538  1459  790  \n",
      "\n",
      "Purity: 0.3802 \t\t\t|\tARI: 0.09350725131905827 \n",
      "RSS: 1250.8358283584287 \t|\tNMI: 0.1275284447646121\n",
      "-------------------------------------------------\n",
      "Iteration: 4\n",
      "1125  135  1536  1358  846  \n",
      "\n",
      "Purity: 0.3948 \t\t\t|\tARI: 0.11125925740775597 \n",
      "RSS: 1247.685408308239 \t|\tNMI: 0.15016267976868453\n",
      "-------------------------------------------------\n",
      "Iteration: 5\n",
      "1185  132  1548  1254  881  \n",
      "\n",
      "Purity: 0.4102 \t\t\t|\tARI: 0.129104503826694 \n",
      "RSS: 1245.5249437969094 \t|\tNMI: 0.17306430359873648\n",
      "-------------------------------------------------\n",
      "Iteration: 6\n",
      "1247  127  1558  1154  914  \n",
      "\n",
      "Purity: 0.42 \t\t\t|\tARI: 0.14365412642591652 \n",
      "RSS: 1243.7575544101674 \t|\tNMI: 0.19330698057093942\n",
      "-------------------------------------------------\n",
      "Iteration: 7\n",
      "1307  124  1584  1043  942  \n",
      "\n",
      "Purity: 0.4304 \t\t\t|\tARI: 0.15656833266290782 \n",
      "RSS: 1242.1130466719387 \t|\tNMI: 0.2117801274080443\n",
      "-------------------------------------------------\n",
      "Iteration: 8\n",
      "1360  121  1607  948  964  \n",
      "\n",
      "Purity: 0.447 \t\t\t|\tARI: 0.16984280792240578 \n",
      "RSS: 1240.3882100738542 \t|\tNMI: 0.23106707553676997\n",
      "-------------------------------------------------\n",
      "Iteration: 9\n",
      "1403  121  1634  857  985  \n",
      "\n",
      "Purity: 0.458 \t\t\t|\tARI: 0.17640328600493307 \n",
      "RSS: 1238.9657359676728 \t|\tNMI: 0.24520212712124598\n",
      "-------------------------------------------------\n",
      "Iteration: 10\n",
      "1426  121  1655  805  993  \n",
      "\n",
      "Purity: 0.4666 \t\t\t|\tARI: 0.18333389246718593 \n",
      "RSS: 1237.9621855067455 \t|\tNMI: 0.2598346944626354\n",
      "-------------------------------------------------\n",
      "Iteration: 11\n",
      "1444  119  1670  768  999  \n",
      "\n",
      "Purity: 0.468 \t\t\t|\tARI: 0.18436042074829406 \n",
      "RSS: 1237.4586045515473 \t|\tNMI: 0.2655749717883238\n",
      "-------------------------------------------------\n",
      "Iteration: 12\n",
      "1444  118  1682  754  1002  \n",
      "\n",
      "Purity: 0.4678 \t\t\t|\tARI: 0.18356615622611644 \n",
      "RSS: 1237.2612420200703 \t|\tNMI: 0.26685702157482033\n",
      "-------------------------------------------------\n",
      "Iteration: 13\n",
      "1443  118  1684  754  1001  \n",
      "\n",
      "Purity: 0.4682 \t\t\t|\tARI: 0.18381940526924073 \n",
      "RSS: 1237.2125496476624 \t|\tNMI: 0.26735221237425477\n",
      "-------------------------------------------------\n",
      "Iteration: 14\n",
      "1442  118  1687  752  1001  \n",
      "\n",
      "Purity: 0.468 \t\t\t|\tARI: 0.1833889457568981 \n",
      "RSS: 1237.2099967606832 \t|\tNMI: 0.2670563706338668\n",
      "-------------------------------------------------\n",
      "Iteration: 15\n",
      "1443  118  1688  751  1000  \n",
      "\n",
      "Purity: 0.4684 \t\t\t|\tARI: 0.18352817016537845 \n",
      "RSS: 1237.2055444526868 \t|\tNMI: 0.2672213586925124\n",
      "-------------------------------------------------\n",
      "Iteration: 16\n",
      "1443  118  1688  752  999  \n",
      "\n",
      "Purity: 0.4686 \t\t\t|\tARI: 0.18381233105254838 \n",
      "RSS: 1237.2046676855573 \t|\tNMI: 0.26747747929524146\n",
      "-------------------------------------------------\n",
      "Iteration: 17\n",
      "1443  118  1689  751  999  \n",
      "\n",
      "Purity: 0.4686 \t\t\t|\tARI: 0.18382179229965384 \n",
      "RSS: 1237.2076850957312 \t|\tNMI: 0.26765961651223125\n",
      "-------------------------------------------------\n",
      "Iteration: 18\n",
      "Updated Centroid\n",
      "convergence reached!!\n"
     ]
    }
   ],
   "source": [
    "no_of_clusters=5\n",
    "maxItr=50\n",
    "purity_plot, ari_plot, rss_plot, nmi_plot, clusters = k_means(avg_w2v, no_of_clusters, maxItr)"
   ]
  },
  {
   "cell_type": "markdown",
   "metadata": {},
   "source": [
    "### K_means tf_idf_w2v"
   ]
  },
  {
   "cell_type": "code",
   "execution_count": 75,
   "metadata": {},
   "outputs": [
    {
     "name": "stdout",
     "output_type": "stream",
     "text": [
      "-------------------------------------------------\n",
      "Iteration: 0\n",
      "857  1  104  658  3380  \n",
      "\n",
      "Purity: 0.3774 \t\t\t|\tARI: 0.08240995253500732 \n",
      "RSS: 2613.5729463913667 \t|\tNMI: 0.17136988132467526\n",
      "-------------------------------------------------\n",
      "Iteration: 1\n",
      "1025  1  334  1422  2218  \n",
      "\n",
      "Purity: 0.4804 \t\t\t|\tARI: 0.23463442644305507 \n",
      "RSS: 2130.8181736534843 \t|\tNMI: 0.29677706809438353\n",
      "-------------------------------------------------\n",
      "Iteration: 2\n",
      "1051  1  447  1708  1793  \n",
      "\n",
      "Purity: 0.4814 \t\t\t|\tARI: 0.2543978885495092 \n",
      "RSS: 2093.641703025297 \t|\tNMI: 0.30817729426349644\n",
      "-------------------------------------------------\n",
      "Iteration: 3\n",
      "1078  1  523  1812  1586  \n",
      "\n",
      "Purity: 0.4808 \t\t\t|\tARI: 0.2575943494457123 \n",
      "RSS: 2089.8716390865743 \t|\tNMI: 0.30585430658450186\n",
      "-------------------------------------------------\n",
      "Iteration: 4\n",
      "1101  1  586  1827  1485  \n",
      "\n",
      "Purity: 0.4808 \t\t\t|\tARI: 0.26041606046265986 \n",
      "RSS: 2088.5683544496583 \t|\tNMI: 0.3060203821797116\n",
      "-------------------------------------------------\n",
      "Iteration: 5\n",
      "1124  1  646  1819  1410  \n",
      "\n",
      "Purity: 0.4806 \t\t\t|\tARI: 0.26189389542667024 \n",
      "RSS: 2087.571176664226 \t|\tNMI: 0.3071801504438078\n",
      "-------------------------------------------------\n",
      "Iteration: 6\n",
      "1145  1  698  1800  1356  \n",
      "\n",
      "Purity: 0.4844 \t\t\t|\tARI: 0.2662140521398682 \n",
      "RSS: 2086.6881808533944 \t|\tNMI: 0.312401615779041\n",
      "-------------------------------------------------\n",
      "Iteration: 7\n",
      "1157  1  749  1774  1319  \n",
      "\n",
      "Purity: 0.4854 \t\t\t|\tARI: 0.26805408556007626 \n",
      "RSS: 2085.8684627444377 \t|\tNMI: 0.3125049017448701\n",
      "-------------------------------------------------\n",
      "Iteration: 8\n",
      "1161  1  792  1754  1292  \n",
      "\n",
      "Purity: 0.487 \t\t\t|\tARI: 0.2714036392690146 \n",
      "RSS: 2085.1473543339025 \t|\tNMI: 0.3169955656528126\n",
      "-------------------------------------------------\n",
      "Iteration: 9\n",
      "1162  1  822  1729  1286  \n",
      "\n",
      "Purity: 0.4866 \t\t\t|\tARI: 0.272900270594262 \n",
      "RSS: 2084.6011405170066 \t|\tNMI: 0.3167245598501456\n",
      "-------------------------------------------------\n",
      "Iteration: 10\n",
      "1160  1  852  1707  1280  \n",
      "\n",
      "Purity: 0.4862 \t\t\t|\tARI: 0.27436921075067144 \n",
      "RSS: 2084.247597532291 \t|\tNMI: 0.31813589537033354\n",
      "-------------------------------------------------\n",
      "Iteration: 11\n",
      "1162  1  874  1682  1281  \n",
      "\n",
      "Purity: 0.4888 \t\t\t|\tARI: 0.2780420814559842 \n",
      "RSS: 2083.8816153460975 \t|\tNMI: 0.3209860107795415\n",
      "-------------------------------------------------\n",
      "Iteration: 12\n",
      "1159  1  893  1662  1285  \n",
      "\n",
      "Purity: 0.4944 \t\t\t|\tARI: 0.28140788371513825 \n",
      "RSS: 2083.5855981914588 \t|\tNMI: 0.3239614035868017\n",
      "-------------------------------------------------\n",
      "Iteration: 13\n",
      "1155  1  908  1652  1284  \n",
      "\n",
      "Purity: 0.4974 \t\t\t|\tARI: 0.28238172735540823 \n",
      "RSS: 2083.3392717079178 \t|\tNMI: 0.3239862010872507\n",
      "-------------------------------------------------\n",
      "Iteration: 14\n",
      "1152  1  922  1648  1277  \n",
      "\n",
      "Purity: 0.4988 \t\t\t|\tARI: 0.2830595172339561 \n",
      "RSS: 2083.1836657788654 \t|\tNMI: 0.3246051110082926\n",
      "-------------------------------------------------\n",
      "Iteration: 15\n",
      "1154  1  933  1640  1272  \n",
      "\n",
      "Purity: 0.5028 \t\t\t|\tARI: 0.28555084583549883 \n",
      "RSS: 2083.061204119187 \t|\tNMI: 0.3266090700087046\n",
      "-------------------------------------------------\n",
      "Iteration: 16\n",
      "1156  1  943  1630  1270  \n",
      "\n",
      "Purity: 0.5046 \t\t\t|\tARI: 0.287141404770313 \n",
      "RSS: 2082.9626204374135 \t|\tNMI: 0.327618470969243\n",
      "-------------------------------------------------\n",
      "Iteration: 17\n",
      "1156  1  945  1628  1270  \n",
      "\n",
      "Purity: 0.506 \t\t\t|\tARI: 0.28905727416551025 \n",
      "RSS: 2082.8956006077874 \t|\tNMI: 0.32969246677221986\n",
      "-------------------------------------------------\n",
      "Iteration: 18\n",
      "1152  1  944  1634  1269  \n",
      "\n",
      "Purity: 0.5068 \t\t\t|\tARI: 0.29109199446088624 \n",
      "RSS: 2082.9049352655566 \t|\tNMI: 0.3315954323453905\n",
      "-------------------------------------------------\n",
      "Iteration: 19\n",
      "1150  1  944  1637  1268  \n",
      "\n",
      "Purity: 0.5074 \t\t\t|\tARI: 0.2924610082690068 \n",
      "RSS: 2082.8991660135857 \t|\tNMI: 0.3330123645872034\n",
      "-------------------------------------------------\n",
      "Iteration: 20\n",
      "1146  1  946  1641  1266  \n",
      "\n",
      "Purity: 0.5076 \t\t\t|\tARI: 0.29322821051207854 \n",
      "RSS: 2082.893002813987 \t|\tNMI: 0.33410109663141463\n",
      "-------------------------------------------------\n",
      "Iteration: 21\n",
      "1144  1  947  1642  1266  \n",
      "\n",
      "Purity: 0.5084 \t\t\t|\tARI: 0.2945227128494272 \n",
      "RSS: 2082.8857777312774 \t|\tNMI: 0.33574070162227326\n",
      "-------------------------------------------------\n",
      "Iteration: 22\n",
      "1141  1  950  1644  1264  \n",
      "\n",
      "Purity: 0.509 \t\t\t|\tARI: 0.2951574663693904 \n",
      "RSS: 2082.8809504578735 \t|\tNMI: 0.33649060221843574\n",
      "-------------------------------------------------\n",
      "Iteration: 23\n",
      "1139  1  954  1645  1261  \n",
      "\n",
      "Purity: 0.5094 \t\t\t|\tARI: 0.2950937931900513 \n",
      "RSS: 2082.8536888891754 \t|\tNMI: 0.3364857843602694\n",
      "-------------------------------------------------\n",
      "Iteration: 24\n",
      "1137  1  957  1645  1260  \n",
      "\n",
      "Purity: 0.5094 \t\t\t|\tARI: 0.29480701131659715 \n",
      "RSS: 2082.8253594266253 \t|\tNMI: 0.33624706941572974\n",
      "-------------------------------------------------\n",
      "Iteration: 25\n",
      "1135  1  957  1647  1260  \n",
      "\n",
      "Purity: 0.5092 \t\t\t|\tARI: 0.29458216452507296 \n",
      "RSS: 2082.7991338952847 \t|\tNMI: 0.33593227100081907\n",
      "-------------------------------------------------\n",
      "Iteration: 26\n",
      "1134  1  957  1648  1260  \n",
      "\n",
      "Purity: 0.5092 \t\t\t|\tARI: 0.2947584531487681 \n",
      "RSS: 2082.7938928041617 \t|\tNMI: 0.33608293293395614\n",
      "-------------------------------------------------\n",
      "Iteration: 27\n",
      "1133  1  957  1649  1260  \n",
      "\n",
      "Purity: 0.5092 \t\t\t|\tARI: 0.29493535718804176 \n",
      "RSS: 2082.7891647685237 \t|\tNMI: 0.33623441690014905\n",
      "-------------------------------------------------\n",
      "Iteration: 28\n",
      "Updated Centroid\n",
      "convergence reached!!\n"
     ]
    }
   ],
   "source": [
    "no_of_clusters=5\n",
    "maxItr=50\n",
    "purity_plot, ari_plot, rss_plot, nmi_plot, clusters = k_means(tf_idf_w2v, no_of_clusters, maxItr)"
   ]
  },
  {
   "cell_type": "code",
   "execution_count": 81,
   "metadata": {},
   "outputs": [
    {
     "data": {
      "image/png": "[encoded data removed]",
      "text/plain": [
       "<Figure size 432x288 with 1 Axes>"
      ]
     },
     "metadata": {
      "needs_background": "light"
     },
     "output_type": "display_data"
    },
    {
     "data": {
      "image/png": "[encoded data removed]",
      "text/plain": [
       "<Figure size 432x288 with 1 Axes>"
      ]
     },
     "metadata": {
      "needs_background": "light"
     },
     "output_type": "display_data"
    },
    {
     "data": {
      "image/png": "[encoded data removed]",
      "text/plain": [
       "<Figure size 432x288 with 1 Axes>"
      ]
     },
     "metadata": {
      "needs_background": "light"
     },
     "output_type": "display_data"
    },
    {
     "data": {
      "image/png": "[encoded data removed]",
      "text/plain": [
       "<Figure size 432x288 with 1 Axes>"
      ]
     },
     "metadata": {
      "needs_background": "light"
     },
     "output_type": "display_data"
    }
   ],
   "source": [
    "plt.title('Purity')\n",
    "plt.plot(range(len(purity_plot)), purity_plot,color='r')\n",
    "plt.xlabel('iterations')\n",
    "plt.ylabel('purity')\n",
    "plt.show()\n",
    "\n",
    "plt.title('ARI')\n",
    "plt.plot(range(len(ari_plot)), ari_plot,color='b')\n",
    "plt.xlabel('iterations')\n",
    "plt.ylabel('ARI')\n",
    "plt.show()\n",
    "\n",
    "plt.title('RSS')\n",
    "plt.plot(range(len(rss_plot)), rss_plot,color='g')\n",
    "plt.xlabel('iterations')\n",
    "plt.ylabel('RSS')\n",
    "plt.show()\n",
    "\n",
    "plt.title('NMI')\n",
    "plt.plot(range(len(nmi_plot)), nmi_plot,color='c')\n",
    "plt.xlabel('iterations')\n",
    "plt.ylabel('NMI')\n",
    "plt.show()"
   ]
  },
  {
   "cell_type": "code",
   "execution_count": 83,
   "metadata": {},
   "outputs": [],
   "source": [
    "# plt.title('Metrics')\n",
    "# plt.plot(range(len(purity_plot)), purity_plot,color='r')\n",
    "# plt.plot(range(len(ari_plot)), ari_plot,color='b')\n",
    "# plt.plot(range(len(rss_plot)), rss_plot,color='g')\n",
    "# plt.plot(range(len(nmi_plot)), nmi_plot,color='c')\n",
    "# plt.ylabel('Metric')\n",
    "# plt.xlabel('iterations')\n",
    "# plt.show()"
   ]
  },
  {
   "cell_type": "code",
   "execution_count": null,
   "metadata": {},
   "outputs": [],
   "source": []
  }
 ],
 "metadata": {
  "kernelspec": {
   "display_name": "Python 3",
   "language": "python",
   "name": "python3"
  },
  "language_info": {
   "codemirror_mode": {
    "name": "ipython",
    "version": 3
   },
   "file_extension": ".py",
   "mimetype": "text/x-python",
   "name": "python",
   "nbconvert_exporter": "python",
   "pygments_lexer": "ipython3",
   "version": "3.7.1"
  }
 },
 "nbformat": 4,
 "nbformat_minor": 2
}
